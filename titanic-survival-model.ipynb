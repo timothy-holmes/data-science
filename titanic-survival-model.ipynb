{
 "cells": [
  {
   "cell_type": "code",
   "execution_count": 1,
   "id": "d548a8fd",
   "metadata": {
    "_cell_guid": "b1076dfc-b9ad-4769-8c92-a6c4dae69d19",
    "_uuid": "8f2839f25d086af736a60e9eeb907d3b93b6e0e5",
    "execution": {
     "iopub.execute_input": "2022-03-03T05:40:08.188727Z",
     "iopub.status.busy": "2022-03-03T05:40:08.187217Z",
     "iopub.status.idle": "2022-03-03T05:40:08.201796Z",
     "shell.execute_reply": "2022-03-03T05:40:08.200992Z",
     "shell.execute_reply.started": "2022-03-03T02:43:17.735134Z"
    },
    "papermill": {
     "duration": 0.046752,
     "end_time": "2022-03-03T05:40:08.201975",
     "exception": false,
     "start_time": "2022-03-03T05:40:08.155223",
     "status": "completed"
    },
    "tags": []
   },
   "outputs": [
    {
     "name": "stdout",
     "output_type": "stream",
     "text": [
      "/kaggle/input/titanic/train.csv\n",
      "/kaggle/input/titanic/test.csv\n",
      "/kaggle/input/titanic/gender_submission.csv\n"
     ]
    }
   ],
   "source": [
    "# This Python 3 environment comes with many helpful analytics libraries installed\n",
    "# It is defined by the kaggle/python Docker image: https://github.com/kaggle/docker-python\n",
    "# For example, here's several helpful packages to load\n",
    "\n",
    "import numpy as np # linear algebra\n",
    "import pandas as pd # data processing, CSV file I/O (e.g. pd.read_csv)\n",
    "\n",
    "# Input data files are available in the read-only \"../input/\" directory\n",
    "# For example, running this (by clicking run or pressing Shift+Enter) will list all files under the input directory\n",
    "\n",
    "import os\n",
    "for dirname, _, filenames in os.walk('/kaggle/input'):\n",
    "    for filename in filenames:\n",
    "        print(os.path.join(dirname, filename))\n",
    "\n",
    "# You can write up to 20GB to the current directory (/kaggle/working/) that gets preserved as output when you create a version using \"Save & Run All\" \n",
    "# You can also write temporary files to /kaggle/temp/, but they won't be saved outside of the current session"
   ]
  },
  {
   "cell_type": "markdown",
   "id": "d5bd3970",
   "metadata": {
    "papermill": {
     "duration": 0.02833,
     "end_time": "2022-03-03T05:40:08.258197",
     "exception": false,
     "start_time": "2022-03-03T05:40:08.229867",
     "status": "completed"
    },
    "tags": []
   },
   "source": [
    "# Import Data"
   ]
  },
  {
   "cell_type": "code",
   "execution_count": 2,
   "id": "b677c448",
   "metadata": {
    "execution": {
     "iopub.execute_input": "2022-03-03T05:40:08.319870Z",
     "iopub.status.busy": "2022-03-03T05:40:08.319015Z",
     "iopub.status.idle": "2022-03-03T05:40:08.360273Z",
     "shell.execute_reply": "2022-03-03T05:40:08.360756Z",
     "shell.execute_reply.started": "2022-03-03T02:43:17.744769Z"
    },
    "papermill": {
     "duration": 0.074613,
     "end_time": "2022-03-03T05:40:08.360952",
     "exception": false,
     "start_time": "2022-03-03T05:40:08.286339",
     "status": "completed"
    },
    "tags": []
   },
   "outputs": [
    {
     "data": {
      "text/html": [
       "<div>\n",
       "<style scoped>\n",
       "    .dataframe tbody tr th:only-of-type {\n",
       "        vertical-align: middle;\n",
       "    }\n",
       "\n",
       "    .dataframe tbody tr th {\n",
       "        vertical-align: top;\n",
       "    }\n",
       "\n",
       "    .dataframe thead th {\n",
       "        text-align: right;\n",
       "    }\n",
       "</style>\n",
       "<table border=\"1\" class=\"dataframe\">\n",
       "  <thead>\n",
       "    <tr style=\"text-align: right;\">\n",
       "      <th></th>\n",
       "      <th>PassengerId</th>\n",
       "      <th>Survived</th>\n",
       "      <th>Pclass</th>\n",
       "      <th>Name</th>\n",
       "      <th>Sex</th>\n",
       "      <th>Age</th>\n",
       "      <th>SibSp</th>\n",
       "      <th>Parch</th>\n",
       "      <th>Ticket</th>\n",
       "      <th>Fare</th>\n",
       "      <th>Cabin</th>\n",
       "      <th>Embarked</th>\n",
       "    </tr>\n",
       "  </thead>\n",
       "  <tbody>\n",
       "    <tr>\n",
       "      <th>0</th>\n",
       "      <td>1</td>\n",
       "      <td>0</td>\n",
       "      <td>3</td>\n",
       "      <td>Braund, Mr. Owen Harris</td>\n",
       "      <td>male</td>\n",
       "      <td>22.0</td>\n",
       "      <td>1</td>\n",
       "      <td>0</td>\n",
       "      <td>A/5 21171</td>\n",
       "      <td>7.2500</td>\n",
       "      <td>NaN</td>\n",
       "      <td>S</td>\n",
       "    </tr>\n",
       "    <tr>\n",
       "      <th>1</th>\n",
       "      <td>2</td>\n",
       "      <td>1</td>\n",
       "      <td>1</td>\n",
       "      <td>Cumings, Mrs. John Bradley (Florence Briggs Th...</td>\n",
       "      <td>female</td>\n",
       "      <td>38.0</td>\n",
       "      <td>1</td>\n",
       "      <td>0</td>\n",
       "      <td>PC 17599</td>\n",
       "      <td>71.2833</td>\n",
       "      <td>C85</td>\n",
       "      <td>C</td>\n",
       "    </tr>\n",
       "    <tr>\n",
       "      <th>2</th>\n",
       "      <td>3</td>\n",
       "      <td>1</td>\n",
       "      <td>3</td>\n",
       "      <td>Heikkinen, Miss. Laina</td>\n",
       "      <td>female</td>\n",
       "      <td>26.0</td>\n",
       "      <td>0</td>\n",
       "      <td>0</td>\n",
       "      <td>STON/O2. 3101282</td>\n",
       "      <td>7.9250</td>\n",
       "      <td>NaN</td>\n",
       "      <td>S</td>\n",
       "    </tr>\n",
       "    <tr>\n",
       "      <th>3</th>\n",
       "      <td>4</td>\n",
       "      <td>1</td>\n",
       "      <td>1</td>\n",
       "      <td>Futrelle, Mrs. Jacques Heath (Lily May Peel)</td>\n",
       "      <td>female</td>\n",
       "      <td>35.0</td>\n",
       "      <td>1</td>\n",
       "      <td>0</td>\n",
       "      <td>113803</td>\n",
       "      <td>53.1000</td>\n",
       "      <td>C123</td>\n",
       "      <td>S</td>\n",
       "    </tr>\n",
       "    <tr>\n",
       "      <th>4</th>\n",
       "      <td>5</td>\n",
       "      <td>0</td>\n",
       "      <td>3</td>\n",
       "      <td>Allen, Mr. William Henry</td>\n",
       "      <td>male</td>\n",
       "      <td>35.0</td>\n",
       "      <td>0</td>\n",
       "      <td>0</td>\n",
       "      <td>373450</td>\n",
       "      <td>8.0500</td>\n",
       "      <td>NaN</td>\n",
       "      <td>S</td>\n",
       "    </tr>\n",
       "  </tbody>\n",
       "</table>\n",
       "</div>"
      ],
      "text/plain": [
       "   PassengerId  Survived  Pclass  \\\n",
       "0            1         0       3   \n",
       "1            2         1       1   \n",
       "2            3         1       3   \n",
       "3            4         1       1   \n",
       "4            5         0       3   \n",
       "\n",
       "                                                Name     Sex   Age  SibSp  \\\n",
       "0                            Braund, Mr. Owen Harris    male  22.0      1   \n",
       "1  Cumings, Mrs. John Bradley (Florence Briggs Th...  female  38.0      1   \n",
       "2                             Heikkinen, Miss. Laina  female  26.0      0   \n",
       "3       Futrelle, Mrs. Jacques Heath (Lily May Peel)  female  35.0      1   \n",
       "4                           Allen, Mr. William Henry    male  35.0      0   \n",
       "\n",
       "   Parch            Ticket     Fare Cabin Embarked  \n",
       "0      0         A/5 21171   7.2500   NaN        S  \n",
       "1      0          PC 17599  71.2833   C85        C  \n",
       "2      0  STON/O2. 3101282   7.9250   NaN        S  \n",
       "3      0            113803  53.1000  C123        S  \n",
       "4      0            373450   8.0500   NaN        S  "
      ]
     },
     "execution_count": 2,
     "metadata": {},
     "output_type": "execute_result"
    }
   ],
   "source": [
    "# training data (has survived)\n",
    "train_data = pd.read_csv('/kaggle/input/titanic/train.csv')\n",
    "train_data.head()"
   ]
  },
  {
   "cell_type": "code",
   "execution_count": 3,
   "id": "07a3a9bf",
   "metadata": {
    "execution": {
     "iopub.execute_input": "2022-03-03T05:40:08.422470Z",
     "iopub.status.busy": "2022-03-03T05:40:08.421573Z",
     "iopub.status.idle": "2022-03-03T05:40:08.445006Z",
     "shell.execute_reply": "2022-03-03T05:40:08.444353Z",
     "shell.execute_reply.started": "2022-03-03T02:43:17.787813Z"
    },
    "papermill": {
     "duration": 0.056611,
     "end_time": "2022-03-03T05:40:08.445206",
     "exception": false,
     "start_time": "2022-03-03T05:40:08.388595",
     "status": "completed"
    },
    "tags": []
   },
   "outputs": [
    {
     "data": {
      "text/html": [
       "<div>\n",
       "<style scoped>\n",
       "    .dataframe tbody tr th:only-of-type {\n",
       "        vertical-align: middle;\n",
       "    }\n",
       "\n",
       "    .dataframe tbody tr th {\n",
       "        vertical-align: top;\n",
       "    }\n",
       "\n",
       "    .dataframe thead th {\n",
       "        text-align: right;\n",
       "    }\n",
       "</style>\n",
       "<table border=\"1\" class=\"dataframe\">\n",
       "  <thead>\n",
       "    <tr style=\"text-align: right;\">\n",
       "      <th></th>\n",
       "      <th>PassengerId</th>\n",
       "      <th>Pclass</th>\n",
       "      <th>Name</th>\n",
       "      <th>Sex</th>\n",
       "      <th>Age</th>\n",
       "      <th>SibSp</th>\n",
       "      <th>Parch</th>\n",
       "      <th>Ticket</th>\n",
       "      <th>Fare</th>\n",
       "      <th>Cabin</th>\n",
       "      <th>Embarked</th>\n",
       "    </tr>\n",
       "  </thead>\n",
       "  <tbody>\n",
       "    <tr>\n",
       "      <th>0</th>\n",
       "      <td>892</td>\n",
       "      <td>3</td>\n",
       "      <td>Kelly, Mr. James</td>\n",
       "      <td>male</td>\n",
       "      <td>34.5</td>\n",
       "      <td>0</td>\n",
       "      <td>0</td>\n",
       "      <td>330911</td>\n",
       "      <td>7.8292</td>\n",
       "      <td>NaN</td>\n",
       "      <td>Q</td>\n",
       "    </tr>\n",
       "    <tr>\n",
       "      <th>1</th>\n",
       "      <td>893</td>\n",
       "      <td>3</td>\n",
       "      <td>Wilkes, Mrs. James (Ellen Needs)</td>\n",
       "      <td>female</td>\n",
       "      <td>47.0</td>\n",
       "      <td>1</td>\n",
       "      <td>0</td>\n",
       "      <td>363272</td>\n",
       "      <td>7.0000</td>\n",
       "      <td>NaN</td>\n",
       "      <td>S</td>\n",
       "    </tr>\n",
       "    <tr>\n",
       "      <th>2</th>\n",
       "      <td>894</td>\n",
       "      <td>2</td>\n",
       "      <td>Myles, Mr. Thomas Francis</td>\n",
       "      <td>male</td>\n",
       "      <td>62.0</td>\n",
       "      <td>0</td>\n",
       "      <td>0</td>\n",
       "      <td>240276</td>\n",
       "      <td>9.6875</td>\n",
       "      <td>NaN</td>\n",
       "      <td>Q</td>\n",
       "    </tr>\n",
       "    <tr>\n",
       "      <th>3</th>\n",
       "      <td>895</td>\n",
       "      <td>3</td>\n",
       "      <td>Wirz, Mr. Albert</td>\n",
       "      <td>male</td>\n",
       "      <td>27.0</td>\n",
       "      <td>0</td>\n",
       "      <td>0</td>\n",
       "      <td>315154</td>\n",
       "      <td>8.6625</td>\n",
       "      <td>NaN</td>\n",
       "      <td>S</td>\n",
       "    </tr>\n",
       "    <tr>\n",
       "      <th>4</th>\n",
       "      <td>896</td>\n",
       "      <td>3</td>\n",
       "      <td>Hirvonen, Mrs. Alexander (Helga E Lindqvist)</td>\n",
       "      <td>female</td>\n",
       "      <td>22.0</td>\n",
       "      <td>1</td>\n",
       "      <td>1</td>\n",
       "      <td>3101298</td>\n",
       "      <td>12.2875</td>\n",
       "      <td>NaN</td>\n",
       "      <td>S</td>\n",
       "    </tr>\n",
       "  </tbody>\n",
       "</table>\n",
       "</div>"
      ],
      "text/plain": [
       "   PassengerId  Pclass                                          Name     Sex  \\\n",
       "0          892       3                              Kelly, Mr. James    male   \n",
       "1          893       3              Wilkes, Mrs. James (Ellen Needs)  female   \n",
       "2          894       2                     Myles, Mr. Thomas Francis    male   \n",
       "3          895       3                              Wirz, Mr. Albert    male   \n",
       "4          896       3  Hirvonen, Mrs. Alexander (Helga E Lindqvist)  female   \n",
       "\n",
       "    Age  SibSp  Parch   Ticket     Fare Cabin Embarked  \n",
       "0  34.5      0      0   330911   7.8292   NaN        Q  \n",
       "1  47.0      1      0   363272   7.0000   NaN        S  \n",
       "2  62.0      0      0   240276   9.6875   NaN        Q  \n",
       "3  27.0      0      0   315154   8.6625   NaN        S  \n",
       "4  22.0      1      1  3101298  12.2875   NaN        S  "
      ]
     },
     "execution_count": 3,
     "metadata": {},
     "output_type": "execute_result"
    }
   ],
   "source": [
    "# test data\n",
    "test_data = pd.read_csv('/kaggle/input/titanic/test.csv')\n",
    "test_data.head()"
   ]
  },
  {
   "cell_type": "code",
   "execution_count": 4,
   "id": "6493b7af",
   "metadata": {
    "execution": {
     "iopub.execute_input": "2022-03-03T05:40:08.510740Z",
     "iopub.status.busy": "2022-03-03T05:40:08.509983Z",
     "iopub.status.idle": "2022-03-03T05:40:08.540878Z",
     "shell.execute_reply": "2022-03-03T05:40:08.541454Z",
     "shell.execute_reply.started": "2022-03-03T02:43:17.816572Z"
    },
    "papermill": {
     "duration": 0.06706,
     "end_time": "2022-03-03T05:40:08.541633",
     "exception": false,
     "start_time": "2022-03-03T05:40:08.474573",
     "status": "completed"
    },
    "tags": []
   },
   "outputs": [
    {
     "data": {
      "text/html": [
       "<div>\n",
       "<style scoped>\n",
       "    .dataframe tbody tr th:only-of-type {\n",
       "        vertical-align: middle;\n",
       "    }\n",
       "\n",
       "    .dataframe tbody tr th {\n",
       "        vertical-align: top;\n",
       "    }\n",
       "\n",
       "    .dataframe thead th {\n",
       "        text-align: right;\n",
       "    }\n",
       "</style>\n",
       "<table border=\"1\" class=\"dataframe\">\n",
       "  <thead>\n",
       "    <tr style=\"text-align: right;\">\n",
       "      <th></th>\n",
       "      <th></th>\n",
       "      <th>PassengerId</th>\n",
       "      <th>Survived</th>\n",
       "      <th>Pclass</th>\n",
       "      <th>Name</th>\n",
       "      <th>Sex</th>\n",
       "      <th>Age</th>\n",
       "      <th>SibSp</th>\n",
       "      <th>Parch</th>\n",
       "      <th>Ticket</th>\n",
       "      <th>Fare</th>\n",
       "      <th>Cabin</th>\n",
       "      <th>Embarked</th>\n",
       "    </tr>\n",
       "  </thead>\n",
       "  <tbody>\n",
       "    <tr>\n",
       "      <th rowspan=\"5\" valign=\"top\">train</th>\n",
       "      <th>0</th>\n",
       "      <td>1</td>\n",
       "      <td>0.0</td>\n",
       "      <td>3</td>\n",
       "      <td>Braund, Mr. Owen Harris</td>\n",
       "      <td>male</td>\n",
       "      <td>22.0</td>\n",
       "      <td>1</td>\n",
       "      <td>0</td>\n",
       "      <td>A/5 21171</td>\n",
       "      <td>7.2500</td>\n",
       "      <td>NaN</td>\n",
       "      <td>S</td>\n",
       "    </tr>\n",
       "    <tr>\n",
       "      <th>1</th>\n",
       "      <td>2</td>\n",
       "      <td>1.0</td>\n",
       "      <td>1</td>\n",
       "      <td>Cumings, Mrs. John Bradley (Florence Briggs Th...</td>\n",
       "      <td>female</td>\n",
       "      <td>38.0</td>\n",
       "      <td>1</td>\n",
       "      <td>0</td>\n",
       "      <td>PC 17599</td>\n",
       "      <td>71.2833</td>\n",
       "      <td>C85</td>\n",
       "      <td>C</td>\n",
       "    </tr>\n",
       "    <tr>\n",
       "      <th>2</th>\n",
       "      <td>3</td>\n",
       "      <td>1.0</td>\n",
       "      <td>3</td>\n",
       "      <td>Heikkinen, Miss. Laina</td>\n",
       "      <td>female</td>\n",
       "      <td>26.0</td>\n",
       "      <td>0</td>\n",
       "      <td>0</td>\n",
       "      <td>STON/O2. 3101282</td>\n",
       "      <td>7.9250</td>\n",
       "      <td>NaN</td>\n",
       "      <td>S</td>\n",
       "    </tr>\n",
       "    <tr>\n",
       "      <th>3</th>\n",
       "      <td>4</td>\n",
       "      <td>1.0</td>\n",
       "      <td>1</td>\n",
       "      <td>Futrelle, Mrs. Jacques Heath (Lily May Peel)</td>\n",
       "      <td>female</td>\n",
       "      <td>35.0</td>\n",
       "      <td>1</td>\n",
       "      <td>0</td>\n",
       "      <td>113803</td>\n",
       "      <td>53.1000</td>\n",
       "      <td>C123</td>\n",
       "      <td>S</td>\n",
       "    </tr>\n",
       "    <tr>\n",
       "      <th>4</th>\n",
       "      <td>5</td>\n",
       "      <td>0.0</td>\n",
       "      <td>3</td>\n",
       "      <td>Allen, Mr. William Henry</td>\n",
       "      <td>male</td>\n",
       "      <td>35.0</td>\n",
       "      <td>0</td>\n",
       "      <td>0</td>\n",
       "      <td>373450</td>\n",
       "      <td>8.0500</td>\n",
       "      <td>NaN</td>\n",
       "      <td>S</td>\n",
       "    </tr>\n",
       "  </tbody>\n",
       "</table>\n",
       "</div>"
      ],
      "text/plain": [
       "         PassengerId  Survived  Pclass  \\\n",
       "train 0            1       0.0       3   \n",
       "      1            2       1.0       1   \n",
       "      2            3       1.0       3   \n",
       "      3            4       1.0       1   \n",
       "      4            5       0.0       3   \n",
       "\n",
       "                                                      Name     Sex   Age  \\\n",
       "train 0                            Braund, Mr. Owen Harris    male  22.0   \n",
       "      1  Cumings, Mrs. John Bradley (Florence Briggs Th...  female  38.0   \n",
       "      2                             Heikkinen, Miss. Laina  female  26.0   \n",
       "      3       Futrelle, Mrs. Jacques Heath (Lily May Peel)  female  35.0   \n",
       "      4                           Allen, Mr. William Henry    male  35.0   \n",
       "\n",
       "         SibSp  Parch            Ticket     Fare Cabin Embarked  \n",
       "train 0      1      0         A/5 21171   7.2500   NaN        S  \n",
       "      1      1      0          PC 17599  71.2833   C85        C  \n",
       "      2      0      0  STON/O2. 3101282   7.9250   NaN        S  \n",
       "      3      1      0            113803  53.1000  C123        S  \n",
       "      4      0      0            373450   8.0500   NaN        S  "
      ]
     },
     "execution_count": 4,
     "metadata": {},
     "output_type": "execute_result"
    }
   ],
   "source": [
    "# combined data (for imputing missing values)\n",
    "comb_data = pd.concat([train_data,test_data],keys=['train', 'test'])\n",
    "comb_data.head()"
   ]
  },
  {
   "cell_type": "markdown",
   "id": "50719a53",
   "metadata": {
    "papermill": {
     "duration": 0.029294,
     "end_time": "2022-03-03T05:40:08.602168",
     "exception": false,
     "start_time": "2022-03-03T05:40:08.572874",
     "status": "completed"
    },
    "tags": []
   },
   "source": [
    "# Check for missing values"
   ]
  },
  {
   "cell_type": "code",
   "execution_count": 5,
   "id": "e3929ae3",
   "metadata": {
    "execution": {
     "iopub.execute_input": "2022-03-03T05:40:08.675321Z",
     "iopub.status.busy": "2022-03-03T05:40:08.674336Z",
     "iopub.status.idle": "2022-03-03T05:40:08.682210Z",
     "shell.execute_reply": "2022-03-03T05:40:08.682941Z",
     "shell.execute_reply.started": "2022-03-03T02:43:17.856299Z"
    },
    "papermill": {
     "duration": 0.051259,
     "end_time": "2022-03-03T05:40:08.683177",
     "exception": false,
     "start_time": "2022-03-03T05:40:08.631918",
     "status": "completed"
    },
    "tags": []
   },
   "outputs": [
    {
     "name": "stdout",
     "output_type": "stream",
     "text": [
      "Survived     418\n",
      "Age          263\n",
      "Fare           1\n",
      "Cabin       1014\n",
      "Embarked       2\n",
      "dtype: int64\n"
     ]
    }
   ],
   "source": [
    "cols = [col for col in comb_data.columns if comb_data[col].isna().any()]\n",
    "print(comb_data[cols].isna().sum())"
   ]
  },
  {
   "cell_type": "markdown",
   "id": "26082d81",
   "metadata": {
    "papermill": {
     "duration": 0.033261,
     "end_time": "2022-03-03T05:40:08.750168",
     "exception": false,
     "start_time": "2022-03-03T05:40:08.716907",
     "status": "completed"
    },
    "tags": []
   },
   "source": [
    "# Features\n",
    "1. Calculate family size, isAlone\n",
    "2. Extract titles and bin\n",
    "3. Normalize fare \n",
    "4. Extract deck from cabin information\n",
    "5. Fill missing fare (mean, given other information)\n",
    "6. Fill missing ages (median, from other information), bin ages\n",
    "7. Fill missing cabin (create seperate catergory for unknown cabin)\n",
    "8. Fill missing embarked (mode, given other information?)"
   ]
  },
  {
   "cell_type": "markdown",
   "id": "1854b250",
   "metadata": {
    "papermill": {
     "duration": 0.030746,
     "end_time": "2022-03-03T05:40:08.815035",
     "exception": false,
     "start_time": "2022-03-03T05:40:08.784289",
     "status": "completed"
    },
    "tags": []
   },
   "source": [
    "**1. Family size**\n",
    "\n",
    "The fields *Parch* and *Sibsp* allow us to create a 'family size' feature and 'alone' feature. Later: We may also be able to extract a 'party size' feature from ticket and cabin info. "
   ]
  },
  {
   "cell_type": "code",
   "execution_count": 6,
   "id": "6499de60",
   "metadata": {
    "execution": {
     "iopub.execute_input": "2022-03-03T05:40:08.883822Z",
     "iopub.status.busy": "2022-03-03T05:40:08.883032Z",
     "iopub.status.idle": "2022-03-03T05:40:08.922689Z",
     "shell.execute_reply": "2022-03-03T05:40:08.923533Z",
     "shell.execute_reply.started": "2022-03-03T02:43:17.878096Z"
    },
    "papermill": {
     "duration": 0.079084,
     "end_time": "2022-03-03T05:40:08.923783",
     "exception": false,
     "start_time": "2022-03-03T05:40:08.844699",
     "status": "completed"
    },
    "tags": []
   },
   "outputs": [
    {
     "name": "stdout",
     "output_type": "stream",
     "text": [
      "FamilySize  Pclass\n",
      "1           1         0.532110\n",
      "            2         0.346154\n",
      "            3         0.212963\n",
      "2           1         0.728571\n",
      "            2         0.529412\n",
      "            3         0.350877\n",
      "3           1         0.750000\n",
      "            2         0.677419\n",
      "            3         0.425532\n",
      "4           1         0.714286\n",
      "            2         0.769231\n",
      "            3         0.666667\n",
      "5           1         1.000000\n",
      "            2         1.000000\n",
      "            3         0.000000\n",
      "6           1         0.500000\n",
      "            2         1.000000\n",
      "            3         0.000000\n",
      "7           3         0.333333\n",
      "8           3         0.000000\n",
      "11          3         0.000000\n",
      "Name: Survived, dtype: float64\n"
     ]
    }
   ],
   "source": [
    "def family_size(row):\n",
    "    family_size = int(row['Parch']) + int(row['SibSp']) + 1\n",
    "    isAlone = (family_size == 1)\n",
    "    return family_size\n",
    "\n",
    "comb_data['FamilySize'] = comb_data.apply(lambda row: family_size(row), axis=1)\n",
    "\n",
    "family_map = {1: 'Alone', 2: 'Couple', 3: 'Small', 4: 'Small', 5: 'Large', 6: 'Large', 7: 'Large', 8: 'Large', 11: 'Large'}\n",
    "\n",
    "comb_data['FamilySizeMap'] = comb_data['FamilySize'].map(lambda x: family_map[x])\n",
    "\n",
    "print(comb_data.groupby(['FamilySize','Pclass'])['Survived'].mean())"
   ]
  },
  {
   "cell_type": "markdown",
   "id": "ab9d7536",
   "metadata": {
    "papermill": {
     "duration": 0.031547,
     "end_time": "2022-03-03T05:40:08.985843",
     "exception": false,
     "start_time": "2022-03-03T05:40:08.954296",
     "status": "completed"
    },
    "tags": []
   },
   "source": [
    "**2. Extract titles and bin**\n",
    "\n",
    "We can see the names are impeccably formatted to {Last Name}, {Title}. {Given Names} ({Actual name, if female and married}). So, there's a couple of bits of info to pull: title, and martial status"
   ]
  },
  {
   "cell_type": "code",
   "execution_count": 7,
   "id": "4e765d57",
   "metadata": {
    "execution": {
     "iopub.execute_input": "2022-03-03T05:40:09.050626Z",
     "iopub.status.busy": "2022-03-03T05:40:09.049910Z",
     "iopub.status.idle": "2022-03-03T05:40:09.078691Z",
     "shell.execute_reply": "2022-03-03T05:40:09.079289Z",
     "shell.execute_reply.started": "2022-03-03T02:43:17.916472Z"
    },
    "papermill": {
     "duration": 0.062247,
     "end_time": "2022-03-03T05:40:09.079476",
     "exception": false,
     "start_time": "2022-03-03T05:40:09.017229",
     "status": "completed"
    },
    "tags": []
   },
   "outputs": [
    {
     "name": "stdout",
     "output_type": "stream",
     "text": [
      "Mr Mr\n",
      "Mrs Mrs\n",
      "Miss Miss\n",
      "Master Master\n",
      "Don Noble\n",
      "Rev Occupation\n",
      "Dr Occupation\n",
      "Mme Mrs\n",
      "Ms Miss\n",
      "Major Occupation\n",
      "Lady Noble\n",
      "Sir Noble\n",
      "Mlle Miss\n",
      "Col Occupation\n",
      "Capt Occupation\n",
      "the Countess Noble\n",
      "Jonkheer Noble\n",
      "Dona Noble\n",
      "[('Mr', 757), ('Miss', 264), ('Mrs', 198), ('Master', 61), ('Occupation', 23), ('Noble', 6)]\n"
     ]
    }
   ],
   "source": [
    "import re  # regex\n",
    "\n",
    "def title_from_name(name):\n",
    "    result = re.search(',\\s(.*?)\\.',name) # find characters between comma and space, and period. Non-greedy.\n",
    "    return result.group(1)\n",
    "\n",
    "title_freq = {}\n",
    "\n",
    "for n in comb_data['Name']:\n",
    "    if type(n) == str:\n",
    "        t = title_from_name(n)\n",
    "        if t:\n",
    "            title_freq[t] = 1 + title_freq.get(t,0)\n",
    "\n",
    "#print(title_freq.keys())          \n",
    "#print([(k,title_freq[k]) for k in sorted(title_freq,key=title_freq.get,reverse=True)])\n",
    "\n",
    "# from inspection\n",
    "title_map = {\n",
    "    'Mr': 'Mr', \n",
    "    'Mrs': 'Mrs', \n",
    "    'Miss': 'Miss', \n",
    "    'Master': 'Master', \n",
    "    'Don': 'Noble', \n",
    "    'Rev': 'Occupation', \n",
    "    'Dr': 'Occupation', \n",
    "    'Mme': 'Mrs', \n",
    "    'Ms': 'Miss', \n",
    "    'Major': 'Occupation', \n",
    "    'Lady': 'Noble', \n",
    "    'Sir': 'Noble', \n",
    "    'Mlle': 'Miss', \n",
    "    'Col': 'Occupation', \n",
    "    'Capt': 'Occupation',\n",
    "    'the Countess': 'Noble', \n",
    "    'Jonkheer': 'Noble', \n",
    "    'Dona': 'Noble'\n",
    "}\n",
    "\n",
    "title_map_freq = {}\n",
    "for k,v in title_map.items():\n",
    "    print(k,v)\n",
    "    title_map_freq[v] = title_freq[k] + title_map_freq.get(v,0)\n",
    "    \n",
    "print([(k,title_map_freq[k]) for k in sorted(title_map_freq,key=title_map_freq.get,reverse=True)])\n",
    "\n",
    "comb_data['Title'] = comb_data['Name'].map(lambda x: title_from_name(x))\n",
    "comb_data['TitleMap'] = comb_data['Name'].map(lambda x: title_map[title_from_name(x)])"
   ]
  },
  {
   "cell_type": "markdown",
   "id": "cc4f0fbd",
   "metadata": {
    "papermill": {
     "duration": 0.030785,
     "end_time": "2022-03-03T05:40:09.142309",
     "exception": false,
     "start_time": "2022-03-03T05:40:09.111524",
     "status": "completed"
    },
    "tags": []
   },
   "source": [
    "**3. Normalise fare**\n",
    "\n",
    "Use log transformation. Could use "
   ]
  },
  {
   "cell_type": "code",
   "execution_count": 8,
   "id": "96087597",
   "metadata": {
    "execution": {
     "iopub.execute_input": "2022-03-03T05:40:09.209131Z",
     "iopub.status.busy": "2022-03-03T05:40:09.208469Z",
     "iopub.status.idle": "2022-03-03T05:40:10.948142Z",
     "shell.execute_reply": "2022-03-03T05:40:10.948681Z",
     "shell.execute_reply.started": "2022-03-03T02:43:17.944696Z"
    },
    "papermill": {
     "duration": 1.773406,
     "end_time": "2022-03-03T05:40:10.948852",
     "exception": false,
     "start_time": "2022-03-03T05:40:09.175446",
     "status": "completed"
    },
    "tags": []
   },
   "outputs": [
    {
     "name": "stdout",
     "output_type": "stream",
     "text": [
      "Pclass  TitleMap    Sex   \n",
      "1       Master      male      14.400000\n",
      "        Miss        female    13.467742\n",
      "        Mr          male      11.447368\n",
      "        Mrs         female    12.717949\n",
      "        Noble       female    12.666667\n",
      "                    male      11.000000\n",
      "        Occupation  female     9.000000\n",
      "                    male      11.416667\n",
      "2       Master      male       9.272727\n",
      "        Miss        female     8.529412\n",
      "        Mr          male       8.090278\n",
      "        Mrs         female     8.872727\n",
      "        Occupation  male       7.800000\n",
      "3       Master      male       9.136364\n",
      "        Miss        female     7.145695\n",
      "        Mr          male       6.607710\n",
      "        Mrs         female     8.046154\n",
      "Name: LogFare, dtype: float64\n"
     ]
    },
    {
     "data": {
      "image/png": "[encoded data removed]",
      "text/plain": [
       "<Figure size 1584x576 with 2 Axes>"
      ]
     },
     "metadata": {
      "needs_background": "light"
     },
     "output_type": "display_data"
    }
   ],
   "source": [
    "import math\n",
    "\n",
    "def log_fare(x):\n",
    "    try:\n",
    "        norm = int(3*math.log(x+1))\n",
    "        if norm < 6:\n",
    "            return np.nan\n",
    "        else:\n",
    "            return norm\n",
    "    except:\n",
    "        return np.nan\n",
    "\n",
    "comb_data['LogFare'] = comb_data['Fare'].map(lambda x: log_fare(x))\n",
    "\n",
    "print(comb_data.groupby(['Pclass','TitleMap','Sex'])['LogFare'].mean())\n",
    "\n",
    "import matplotlib.pyplot as plt\n",
    "import seaborn as sns\n",
    "fig, axes = plt.subplots(figsize=(22,8), nrows = 1, ncols = 2)\n",
    "ax = sns.countplot(x ='LogFare', hue='Pclass', data = comb_data, ax = axes[0])"
   ]
  },
  {
   "cell_type": "markdown",
   "id": "2a80278b",
   "metadata": {
    "papermill": {
     "duration": 0.032053,
     "end_time": "2022-03-03T05:40:11.012539",
     "exception": false,
     "start_time": "2022-03-03T05:40:10.980486",
     "status": "completed"
    },
    "tags": []
   },
   "source": [
    "**4. Extract deck from cabin info**\n",
    "\n",
    "First letter is the deck"
   ]
  },
  {
   "cell_type": "code",
   "execution_count": 9,
   "id": "32d7cac8",
   "metadata": {
    "execution": {
     "iopub.execute_input": "2022-03-03T05:40:11.082454Z",
     "iopub.status.busy": "2022-03-03T05:40:11.081775Z",
     "iopub.status.idle": "2022-03-03T05:40:11.091227Z",
     "shell.execute_reply": "2022-03-03T05:40:11.091790Z",
     "shell.execute_reply.started": "2022-03-03T02:43:37.268731Z"
    },
    "papermill": {
     "duration": 0.046297,
     "end_time": "2022-03-03T05:40:11.091976",
     "exception": false,
     "start_time": "2022-03-03T05:40:11.045679",
     "status": "completed"
    },
    "tags": []
   },
   "outputs": [],
   "source": [
    "# first letter is the deck\n",
    "def extract_deck(s):\n",
    "    try:\n",
    "        return s[0]\n",
    "    except:\n",
    "        return ''\n",
    "\n",
    "comb_data['Deck'] = comb_data['Cabin'].map(lambda x: extract_deck(x))\n",
    "\n",
    "deck_map = {'A': 'ABC','B': 'ABC','C': 'ABC','D': 'D', 'E': 'E', 'F':'F', 'G':'GT', 'T':'GT'}\n",
    "\n",
    "def map_deck(s):\n",
    "    if s:\n",
    "        return deck_map[s]\n",
    "    else:\n",
    "        return 'unknown'\n",
    "    \n",
    "comb_data['DeckMap'] = comb_data['Deck'].map(lambda x: map_deck(x))"
   ]
  },
  {
   "cell_type": "markdown",
   "id": "3f7f9dca",
   "metadata": {
    "papermill": {
     "duration": 0.03214,
     "end_time": "2022-03-03T05:40:11.155623",
     "exception": false,
     "start_time": "2022-03-03T05:40:11.123483",
     "status": "completed"
    },
    "tags": []
   },
   "source": [
    "**5. Fill missing fare**\n",
    "\n",
    "Details: 3rd class, alone, male, 60 years old, embarked at S... The most significant of those is the class, so value should probably be around the mean for 3rd Class fares. Check the difference with the other info."
   ]
  },
  {
   "cell_type": "code",
   "execution_count": 10,
   "id": "698210e7",
   "metadata": {
    "execution": {
     "iopub.execute_input": "2022-03-03T05:40:11.224827Z",
     "iopub.status.busy": "2022-03-03T05:40:11.224157Z",
     "iopub.status.idle": "2022-03-03T05:40:11.253330Z",
     "shell.execute_reply": "2022-03-03T05:40:11.253884Z",
     "shell.execute_reply.started": "2022-03-03T04:23:04.058496Z"
    },
    "papermill": {
     "duration": 0.066808,
     "end_time": "2022-03-03T05:40:11.254055",
     "exception": false,
     "start_time": "2022-03-03T05:40:11.187247",
     "status": "completed"
    },
    "tags": []
   },
   "outputs": [],
   "source": [
    "comb_data['LogFare'] = comb_data.groupby(['Pclass','Sex','TitleMap','FamilySizeMap'])['LogFare'].apply(lambda x: x.fillna(x.median()))"
   ]
  },
  {
   "cell_type": "markdown",
   "id": "7e93d6fe",
   "metadata": {
    "papermill": {
     "duration": 0.030741,
     "end_time": "2022-03-03T05:40:11.317787",
     "exception": false,
     "start_time": "2022-03-03T05:40:11.287046",
     "status": "completed"
    },
    "tags": []
   },
   "source": [
    "**6. Fill missing ages**\n",
    "\n",
    "Based it on class, gender, title, family size"
   ]
  },
  {
   "cell_type": "code",
   "execution_count": 11,
   "id": "0d02f9d5",
   "metadata": {
    "execution": {
     "iopub.execute_input": "2022-03-03T05:40:11.392046Z",
     "iopub.status.busy": "2022-03-03T05:40:11.391317Z",
     "iopub.status.idle": "2022-03-03T05:40:11.451573Z",
     "shell.execute_reply": "2022-03-03T05:40:11.452055Z",
     "shell.execute_reply.started": "2022-03-03T04:29:30.096985Z"
    },
    "papermill": {
     "duration": 0.103395,
     "end_time": "2022-03-03T05:40:11.452272",
     "exception": false,
     "start_time": "2022-03-03T05:40:11.348877",
     "status": "completed"
    },
    "tags": []
   },
   "outputs": [
    {
     "name": "stdout",
     "output_type": "stream",
     "text": [
      "Pclass  Sex     TitleMap    FamilySizeMap\n",
      "1       female  Miss        Alone            32.00\n",
      "                            Couple           22.00\n",
      "                            Large            23.00\n",
      "                            Small            20.50\n",
      "                Mrs         Alone            54.00\n",
      "                            Couple           41.00\n",
      "                            Large            54.00\n",
      "                            Small            47.50\n",
      "                Noble       Alone            36.00\n",
      "                            Couple           48.00\n",
      "                Occupation  Alone            49.00\n",
      "        male    Master      Large            13.00\n",
      "                            Small             5.00\n",
      "                Mr          Alone            42.00\n",
      "                            Couple           38.00\n",
      "                            Large            61.00\n",
      "                            Small            47.00\n",
      "                Noble       Alone            39.00\n",
      "                            Couple           49.00\n",
      "                Occupation  Alone            52.50\n",
      "                            Couple           47.00\n",
      "                            Small            51.50\n",
      "2       female  Miss        Alone            28.00\n",
      "                            Couple           20.00\n",
      "                            Small             8.00\n",
      "                Mrs         Alone            32.00\n",
      "                            Couple           29.00\n",
      "                            Large            39.00\n",
      "                            Small            32.00\n",
      "        male    Master      Small             2.00\n",
      "                Mr          Alone            29.00\n",
      "                            Couple           33.25\n",
      "                            Small            31.00\n",
      "                Occupation  Alone            42.00\n",
      "                            Couple           41.00\n",
      "                            Small            30.00\n",
      "3       female  Miss        Alone            22.00\n",
      "                            Couple           17.50\n",
      "                            Large             9.00\n",
      "                            Small             3.00\n",
      "                Mrs         Alone            38.00\n",
      "                            Couple           28.50\n",
      "                            Large            40.00\n",
      "                            Small            29.00\n",
      "        male    Master      Alone              NaN\n",
      "                            Couple            6.00\n",
      "                            Large             6.00\n",
      "                            Small             6.00\n",
      "                Mr          Alone            26.00\n",
      "                            Couple           26.00\n",
      "                            Large            23.50\n",
      "                            Small            26.00\n",
      "Name: Age, dtype: float64\n",
      "False\n"
     ]
    }
   ],
   "source": [
    "print(comb_data.groupby(['Pclass','Sex','TitleMap','FamilySizeMap'])['Age'].median())\n",
    "comb_data['Age'] = comb_data.groupby(['Pclass','Sex','TitleMap','FamilySizeMap'])['Age'].apply(lambda x: x.fillna(x.median()))\n",
    "\n",
    "if comb_data['Age'].isna().any():\n",
    "    comb_data['Age'] = comb_data.groupby(['Pclass','Sex','TitleMap'])['Age'].apply(lambda x: x.fillna(x.median()))\n",
    "    \n",
    "print(comb_data['Age'].isna().any())\n",
    "\n",
    "comb_data['AgeBin'] = pd.cut(comb_data['Age'], bins=15, labels=None)"
   ]
  },
  {
   "cell_type": "markdown",
   "id": "7bf18464",
   "metadata": {
    "papermill": {
     "duration": 0.032009,
     "end_time": "2022-03-03T05:40:11.516875",
     "exception": false,
     "start_time": "2022-03-03T05:40:11.484866",
     "status": "completed"
    },
    "tags": []
   },
   "source": [
    "**8. Fill missing embarked (mode, given other information?)**\n",
    "\n",
    "Use mode..."
   ]
  },
  {
   "cell_type": "code",
   "execution_count": 12,
   "id": "e673dc62",
   "metadata": {
    "execution": {
     "iopub.execute_input": "2022-03-03T05:40:11.587438Z",
     "iopub.status.busy": "2022-03-03T05:40:11.586253Z",
     "iopub.status.idle": "2022-03-03T05:40:11.608248Z",
     "shell.execute_reply": "2022-03-03T05:40:11.607508Z",
     "shell.execute_reply.started": "2022-03-03T04:22:34.564153Z"
    },
    "papermill": {
     "duration": 0.059446,
     "end_time": "2022-03-03T05:40:11.608395",
     "exception": false,
     "start_time": "2022-03-03T05:40:11.548949",
     "status": "completed"
    },
    "tags": []
   },
   "outputs": [],
   "source": [
    "comb_data['Embarked'] = comb_data.groupby(['Pclass','Sex','TitleMap'])['Embarked'].apply(lambda x: x.fillna(x.mode()[0]))"
   ]
  },
  {
   "cell_type": "code",
   "execution_count": 13,
   "id": "a95a0a31",
   "metadata": {
    "execution": {
     "iopub.execute_input": "2022-03-03T05:40:11.688531Z",
     "iopub.status.busy": "2022-03-03T05:40:11.684880Z",
     "iopub.status.idle": "2022-03-03T05:40:11.692961Z",
     "shell.execute_reply": "2022-03-03T05:40:11.692300Z",
     "shell.execute_reply.started": "2022-03-03T04:29:49.971295Z"
    },
    "papermill": {
     "duration": 0.051988,
     "end_time": "2022-03-03T05:40:11.693128",
     "exception": false,
     "start_time": "2022-03-03T05:40:11.641140",
     "status": "completed"
    },
    "tags": []
   },
   "outputs": [
    {
     "name": "stdout",
     "output_type": "stream",
     "text": [
      "Survived     418\n",
      "Fare           1\n",
      "Cabin       1014\n",
      "dtype: int64\n"
     ]
    }
   ],
   "source": [
    "cols = [col for col in comb_data.columns if comb_data[col].isna().any()]\n",
    "print(comb_data[cols].isna().sum())"
   ]
  },
  {
   "cell_type": "markdown",
   "id": "81de5f3a",
   "metadata": {
    "papermill": {
     "duration": 0.033223,
     "end_time": "2022-03-03T05:40:11.759261",
     "exception": false,
     "start_time": "2022-03-03T05:40:11.726038",
     "status": "completed"
    },
    "tags": []
   },
   "source": [
    "# Encoding\n",
    "\n",
    "Convert categorical fields to using one hot-encoding"
   ]
  },
  {
   "cell_type": "code",
   "execution_count": 14,
   "id": "1fb8e192",
   "metadata": {
    "execution": {
     "iopub.execute_input": "2022-03-03T05:40:11.840229Z",
     "iopub.status.busy": "2022-03-03T05:40:11.838813Z",
     "iopub.status.idle": "2022-03-03T05:40:11.881635Z",
     "shell.execute_reply": "2022-03-03T05:40:11.882143Z",
     "shell.execute_reply.started": "2022-03-03T05:16:10.869995Z"
    },
    "papermill": {
     "duration": 0.090817,
     "end_time": "2022-03-03T05:40:11.882316",
     "exception": false,
     "start_time": "2022-03-03T05:40:11.791499",
     "status": "completed"
    },
    "tags": []
   },
   "outputs": [
    {
     "name": "stdout",
     "output_type": "stream",
     "text": [
      "['Sex', 'TitleMap', 'FamilySizeMap', 'Embarked', 'DeckMap', 'AgeBin']\n"
     ]
    },
    {
     "data": {
      "text/html": [
       "<div>\n",
       "<style scoped>\n",
       "    .dataframe tbody tr th:only-of-type {\n",
       "        vertical-align: middle;\n",
       "    }\n",
       "\n",
       "    .dataframe tbody tr th {\n",
       "        vertical-align: top;\n",
       "    }\n",
       "\n",
       "    .dataframe thead th {\n",
       "        text-align: right;\n",
       "    }\n",
       "</style>\n",
       "<table border=\"1\" class=\"dataframe\">\n",
       "  <thead>\n",
       "    <tr style=\"text-align: right;\">\n",
       "      <th></th>\n",
       "      <th></th>\n",
       "      <th>PassengerId</th>\n",
       "      <th>Survived</th>\n",
       "      <th>Pclass</th>\n",
       "      <th>LogFare</th>\n",
       "      <th>Parch</th>\n",
       "      <th>SibSp</th>\n",
       "      <th>Sex_female</th>\n",
       "      <th>Sex_male</th>\n",
       "      <th>TitleMap_Master</th>\n",
       "      <th>TitleMap_Miss</th>\n",
       "      <th>...</th>\n",
       "      <th>AgeBin_(26.78, 32.102]</th>\n",
       "      <th>AgeBin_(32.102, 37.424]</th>\n",
       "      <th>AgeBin_(37.424, 42.746]</th>\n",
       "      <th>AgeBin_(42.746, 48.068]</th>\n",
       "      <th>AgeBin_(48.068, 53.39]</th>\n",
       "      <th>AgeBin_(53.39, 58.712]</th>\n",
       "      <th>AgeBin_(58.712, 64.034]</th>\n",
       "      <th>AgeBin_(64.034, 69.356]</th>\n",
       "      <th>AgeBin_(69.356, 74.678]</th>\n",
       "      <th>AgeBin_(74.678, 80.0]</th>\n",
       "    </tr>\n",
       "  </thead>\n",
       "  <tbody>\n",
       "    <tr>\n",
       "      <th rowspan=\"5\" valign=\"top\">train</th>\n",
       "      <th>0</th>\n",
       "      <td>1</td>\n",
       "      <td>0.0</td>\n",
       "      <td>3</td>\n",
       "      <td>6.0</td>\n",
       "      <td>0</td>\n",
       "      <td>1</td>\n",
       "      <td>0</td>\n",
       "      <td>1</td>\n",
       "      <td>0</td>\n",
       "      <td>0</td>\n",
       "      <td>...</td>\n",
       "      <td>0</td>\n",
       "      <td>0</td>\n",
       "      <td>0</td>\n",
       "      <td>0</td>\n",
       "      <td>0</td>\n",
       "      <td>0</td>\n",
       "      <td>0</td>\n",
       "      <td>0</td>\n",
       "      <td>0</td>\n",
       "      <td>0</td>\n",
       "    </tr>\n",
       "    <tr>\n",
       "      <th>1</th>\n",
       "      <td>2</td>\n",
       "      <td>1.0</td>\n",
       "      <td>1</td>\n",
       "      <td>12.0</td>\n",
       "      <td>0</td>\n",
       "      <td>1</td>\n",
       "      <td>1</td>\n",
       "      <td>0</td>\n",
       "      <td>0</td>\n",
       "      <td>0</td>\n",
       "      <td>...</td>\n",
       "      <td>0</td>\n",
       "      <td>0</td>\n",
       "      <td>1</td>\n",
       "      <td>0</td>\n",
       "      <td>0</td>\n",
       "      <td>0</td>\n",
       "      <td>0</td>\n",
       "      <td>0</td>\n",
       "      <td>0</td>\n",
       "      <td>0</td>\n",
       "    </tr>\n",
       "    <tr>\n",
       "      <th>2</th>\n",
       "      <td>3</td>\n",
       "      <td>1.0</td>\n",
       "      <td>3</td>\n",
       "      <td>6.0</td>\n",
       "      <td>0</td>\n",
       "      <td>0</td>\n",
       "      <td>1</td>\n",
       "      <td>0</td>\n",
       "      <td>0</td>\n",
       "      <td>1</td>\n",
       "      <td>...</td>\n",
       "      <td>0</td>\n",
       "      <td>0</td>\n",
       "      <td>0</td>\n",
       "      <td>0</td>\n",
       "      <td>0</td>\n",
       "      <td>0</td>\n",
       "      <td>0</td>\n",
       "      <td>0</td>\n",
       "      <td>0</td>\n",
       "      <td>0</td>\n",
       "    </tr>\n",
       "    <tr>\n",
       "      <th>3</th>\n",
       "      <td>4</td>\n",
       "      <td>1.0</td>\n",
       "      <td>1</td>\n",
       "      <td>11.0</td>\n",
       "      <td>0</td>\n",
       "      <td>1</td>\n",
       "      <td>1</td>\n",
       "      <td>0</td>\n",
       "      <td>0</td>\n",
       "      <td>0</td>\n",
       "      <td>...</td>\n",
       "      <td>0</td>\n",
       "      <td>1</td>\n",
       "      <td>0</td>\n",
       "      <td>0</td>\n",
       "      <td>0</td>\n",
       "      <td>0</td>\n",
       "      <td>0</td>\n",
       "      <td>0</td>\n",
       "      <td>0</td>\n",
       "      <td>0</td>\n",
       "    </tr>\n",
       "    <tr>\n",
       "      <th>4</th>\n",
       "      <td>5</td>\n",
       "      <td>0.0</td>\n",
       "      <td>3</td>\n",
       "      <td>6.0</td>\n",
       "      <td>0</td>\n",
       "      <td>0</td>\n",
       "      <td>0</td>\n",
       "      <td>1</td>\n",
       "      <td>0</td>\n",
       "      <td>0</td>\n",
       "      <td>...</td>\n",
       "      <td>0</td>\n",
       "      <td>1</td>\n",
       "      <td>0</td>\n",
       "      <td>0</td>\n",
       "      <td>0</td>\n",
       "      <td>0</td>\n",
       "      <td>0</td>\n",
       "      <td>0</td>\n",
       "      <td>0</td>\n",
       "      <td>0</td>\n",
       "    </tr>\n",
       "  </tbody>\n",
       "</table>\n",
       "<p>5 rows × 42 columns</p>\n",
       "</div>"
      ],
      "text/plain": [
       "         PassengerId  Survived  Pclass  LogFare  Parch  SibSp  Sex_female  \\\n",
       "train 0            1       0.0       3      6.0      0      1           0   \n",
       "      1            2       1.0       1     12.0      0      1           1   \n",
       "      2            3       1.0       3      6.0      0      0           1   \n",
       "      3            4       1.0       1     11.0      0      1           1   \n",
       "      4            5       0.0       3      6.0      0      0           0   \n",
       "\n",
       "         Sex_male  TitleMap_Master  TitleMap_Miss  ...  \\\n",
       "train 0         1                0              0  ...   \n",
       "      1         0                0              0  ...   \n",
       "      2         0                0              1  ...   \n",
       "      3         0                0              0  ...   \n",
       "      4         1                0              0  ...   \n",
       "\n",
       "         AgeBin_(26.78, 32.102]  AgeBin_(32.102, 37.424]  \\\n",
       "train 0                       0                        0   \n",
       "      1                       0                        0   \n",
       "      2                       0                        0   \n",
       "      3                       0                        1   \n",
       "      4                       0                        1   \n",
       "\n",
       "         AgeBin_(37.424, 42.746]  AgeBin_(42.746, 48.068]  \\\n",
       "train 0                        0                        0   \n",
       "      1                        1                        0   \n",
       "      2                        0                        0   \n",
       "      3                        0                        0   \n",
       "      4                        0                        0   \n",
       "\n",
       "         AgeBin_(48.068, 53.39]  AgeBin_(53.39, 58.712]  \\\n",
       "train 0                       0                       0   \n",
       "      1                       0                       0   \n",
       "      2                       0                       0   \n",
       "      3                       0                       0   \n",
       "      4                       0                       0   \n",
       "\n",
       "         AgeBin_(58.712, 64.034]  AgeBin_(64.034, 69.356]  \\\n",
       "train 0                        0                        0   \n",
       "      1                        0                        0   \n",
       "      2                        0                        0   \n",
       "      3                        0                        0   \n",
       "      4                        0                        0   \n",
       "\n",
       "         AgeBin_(69.356, 74.678]  AgeBin_(74.678, 80.0]  \n",
       "train 0                        0                      0  \n",
       "      1                        0                      0  \n",
       "      2                        0                      0  \n",
       "      3                        0                      0  \n",
       "      4                        0                      0  \n",
       "\n",
       "[5 rows x 42 columns]"
      ]
     },
     "execution_count": 14,
     "metadata": {},
     "output_type": "execute_result"
    }
   ],
   "source": [
    "data = comb_data[['PassengerId','Survived','Pclass','Sex','AgeBin','LogFare','TitleMap','FamilySizeMap','Embarked','DeckMap','Parch','SibSp']]\n",
    "category_cols = [col for col in data.columns if data[col].dtype == object] + ['AgeBin']\n",
    "print(category_cols)\n",
    "encoded_columns = pd.get_dummies(data[category_cols],prefix=category_cols,columns=category_cols)\n",
    "data = data.join(encoded_columns).drop(category_cols, axis=1)\n",
    "data.head()"
   ]
  },
  {
   "cell_type": "code",
   "execution_count": 15,
   "id": "a77223b4",
   "metadata": {
    "execution": {
     "iopub.execute_input": "2022-03-03T05:40:11.958096Z",
     "iopub.status.busy": "2022-03-03T05:40:11.957263Z",
     "iopub.status.idle": "2022-03-03T05:40:11.960432Z",
     "shell.execute_reply": "2022-03-03T05:40:11.959874Z",
     "shell.execute_reply.started": "2022-03-03T05:16:14.45719Z"
    },
    "papermill": {
     "duration": 0.044924,
     "end_time": "2022-03-03T05:40:11.960587",
     "exception": false,
     "start_time": "2022-03-03T05:40:11.915663",
     "status": "completed"
    },
    "tags": []
   },
   "outputs": [],
   "source": [
    "train_data = data.loc['train',:]\n",
    "test_data = data.loc['test',:]"
   ]
  },
  {
   "cell_type": "code",
   "execution_count": 16,
   "id": "d025d84e",
   "metadata": {
    "execution": {
     "iopub.execute_input": "2022-03-03T05:40:12.049991Z",
     "iopub.status.busy": "2022-03-03T05:40:12.048930Z",
     "iopub.status.idle": "2022-03-03T05:40:12.052823Z",
     "shell.execute_reply": "2022-03-03T05:40:12.053322Z",
     "shell.execute_reply.started": "2022-03-03T04:55:23.283489Z"
    },
    "papermill": {
     "duration": 0.059924,
     "end_time": "2022-03-03T05:40:12.053498",
     "exception": false,
     "start_time": "2022-03-03T05:40:11.993574",
     "status": "completed"
    },
    "tags": []
   },
   "outputs": [
    {
     "data": {
      "text/html": [
       "<div>\n",
       "<style scoped>\n",
       "    .dataframe tbody tr th:only-of-type {\n",
       "        vertical-align: middle;\n",
       "    }\n",
       "\n",
       "    .dataframe tbody tr th {\n",
       "        vertical-align: top;\n",
       "    }\n",
       "\n",
       "    .dataframe thead th {\n",
       "        text-align: right;\n",
       "    }\n",
       "</style>\n",
       "<table border=\"1\" class=\"dataframe\">\n",
       "  <thead>\n",
       "    <tr style=\"text-align: right;\">\n",
       "      <th></th>\n",
       "      <th>PassengerId</th>\n",
       "      <th>Survived</th>\n",
       "      <th>Pclass</th>\n",
       "      <th>LogFare</th>\n",
       "      <th>Parch</th>\n",
       "      <th>SibSp</th>\n",
       "      <th>Sex_female</th>\n",
       "      <th>Sex_male</th>\n",
       "      <th>TitleMap_Master</th>\n",
       "      <th>TitleMap_Miss</th>\n",
       "      <th>...</th>\n",
       "      <th>AgeBin_(26.78, 32.102]</th>\n",
       "      <th>AgeBin_(32.102, 37.424]</th>\n",
       "      <th>AgeBin_(37.424, 42.746]</th>\n",
       "      <th>AgeBin_(42.746, 48.068]</th>\n",
       "      <th>AgeBin_(48.068, 53.39]</th>\n",
       "      <th>AgeBin_(53.39, 58.712]</th>\n",
       "      <th>AgeBin_(58.712, 64.034]</th>\n",
       "      <th>AgeBin_(64.034, 69.356]</th>\n",
       "      <th>AgeBin_(69.356, 74.678]</th>\n",
       "      <th>AgeBin_(74.678, 80.0]</th>\n",
       "    </tr>\n",
       "  </thead>\n",
       "  <tbody>\n",
       "    <tr>\n",
       "      <th>0</th>\n",
       "      <td>892</td>\n",
       "      <td>NaN</td>\n",
       "      <td>3</td>\n",
       "      <td>6.0</td>\n",
       "      <td>0</td>\n",
       "      <td>0</td>\n",
       "      <td>0</td>\n",
       "      <td>1</td>\n",
       "      <td>0</td>\n",
       "      <td>0</td>\n",
       "      <td>...</td>\n",
       "      <td>0</td>\n",
       "      <td>1</td>\n",
       "      <td>0</td>\n",
       "      <td>0</td>\n",
       "      <td>0</td>\n",
       "      <td>0</td>\n",
       "      <td>0</td>\n",
       "      <td>0</td>\n",
       "      <td>0</td>\n",
       "      <td>0</td>\n",
       "    </tr>\n",
       "    <tr>\n",
       "      <th>1</th>\n",
       "      <td>893</td>\n",
       "      <td>NaN</td>\n",
       "      <td>3</td>\n",
       "      <td>6.0</td>\n",
       "      <td>0</td>\n",
       "      <td>1</td>\n",
       "      <td>1</td>\n",
       "      <td>0</td>\n",
       "      <td>0</td>\n",
       "      <td>0</td>\n",
       "      <td>...</td>\n",
       "      <td>0</td>\n",
       "      <td>0</td>\n",
       "      <td>0</td>\n",
       "      <td>1</td>\n",
       "      <td>0</td>\n",
       "      <td>0</td>\n",
       "      <td>0</td>\n",
       "      <td>0</td>\n",
       "      <td>0</td>\n",
       "      <td>0</td>\n",
       "    </tr>\n",
       "    <tr>\n",
       "      <th>2</th>\n",
       "      <td>894</td>\n",
       "      <td>NaN</td>\n",
       "      <td>2</td>\n",
       "      <td>7.0</td>\n",
       "      <td>0</td>\n",
       "      <td>0</td>\n",
       "      <td>0</td>\n",
       "      <td>1</td>\n",
       "      <td>0</td>\n",
       "      <td>0</td>\n",
       "      <td>...</td>\n",
       "      <td>0</td>\n",
       "      <td>0</td>\n",
       "      <td>0</td>\n",
       "      <td>0</td>\n",
       "      <td>0</td>\n",
       "      <td>0</td>\n",
       "      <td>1</td>\n",
       "      <td>0</td>\n",
       "      <td>0</td>\n",
       "      <td>0</td>\n",
       "    </tr>\n",
       "    <tr>\n",
       "      <th>3</th>\n",
       "      <td>895</td>\n",
       "      <td>NaN</td>\n",
       "      <td>3</td>\n",
       "      <td>6.0</td>\n",
       "      <td>0</td>\n",
       "      <td>0</td>\n",
       "      <td>0</td>\n",
       "      <td>1</td>\n",
       "      <td>0</td>\n",
       "      <td>0</td>\n",
       "      <td>...</td>\n",
       "      <td>1</td>\n",
       "      <td>0</td>\n",
       "      <td>0</td>\n",
       "      <td>0</td>\n",
       "      <td>0</td>\n",
       "      <td>0</td>\n",
       "      <td>0</td>\n",
       "      <td>0</td>\n",
       "      <td>0</td>\n",
       "      <td>0</td>\n",
       "    </tr>\n",
       "    <tr>\n",
       "      <th>4</th>\n",
       "      <td>896</td>\n",
       "      <td>NaN</td>\n",
       "      <td>3</td>\n",
       "      <td>7.0</td>\n",
       "      <td>1</td>\n",
       "      <td>1</td>\n",
       "      <td>1</td>\n",
       "      <td>0</td>\n",
       "      <td>0</td>\n",
       "      <td>0</td>\n",
       "      <td>...</td>\n",
       "      <td>0</td>\n",
       "      <td>0</td>\n",
       "      <td>0</td>\n",
       "      <td>0</td>\n",
       "      <td>0</td>\n",
       "      <td>0</td>\n",
       "      <td>0</td>\n",
       "      <td>0</td>\n",
       "      <td>0</td>\n",
       "      <td>0</td>\n",
       "    </tr>\n",
       "  </tbody>\n",
       "</table>\n",
       "<p>5 rows × 42 columns</p>\n",
       "</div>"
      ],
      "text/plain": [
       "   PassengerId  Survived  Pclass  LogFare  Parch  SibSp  Sex_female  Sex_male  \\\n",
       "0          892       NaN       3      6.0      0      0           0         1   \n",
       "1          893       NaN       3      6.0      0      1           1         0   \n",
       "2          894       NaN       2      7.0      0      0           0         1   \n",
       "3          895       NaN       3      6.0      0      0           0         1   \n",
       "4          896       NaN       3      7.0      1      1           1         0   \n",
       "\n",
       "   TitleMap_Master  TitleMap_Miss  ...  AgeBin_(26.78, 32.102]  \\\n",
       "0                0              0  ...                       0   \n",
       "1                0              0  ...                       0   \n",
       "2                0              0  ...                       0   \n",
       "3                0              0  ...                       1   \n",
       "4                0              0  ...                       0   \n",
       "\n",
       "   AgeBin_(32.102, 37.424]  AgeBin_(37.424, 42.746]  AgeBin_(42.746, 48.068]  \\\n",
       "0                        1                        0                        0   \n",
       "1                        0                        0                        1   \n",
       "2                        0                        0                        0   \n",
       "3                        0                        0                        0   \n",
       "4                        0                        0                        0   \n",
       "\n",
       "   AgeBin_(48.068, 53.39]  AgeBin_(53.39, 58.712]  AgeBin_(58.712, 64.034]  \\\n",
       "0                       0                       0                        0   \n",
       "1                       0                       0                        0   \n",
       "2                       0                       0                        1   \n",
       "3                       0                       0                        0   \n",
       "4                       0                       0                        0   \n",
       "\n",
       "   AgeBin_(64.034, 69.356]  AgeBin_(69.356, 74.678]  AgeBin_(74.678, 80.0]  \n",
       "0                        0                        0                      0  \n",
       "1                        0                        0                      0  \n",
       "2                        0                        0                      0  \n",
       "3                        0                        0                      0  \n",
       "4                        0                        0                      0  \n",
       "\n",
       "[5 rows x 42 columns]"
      ]
     },
     "execution_count": 16,
     "metadata": {},
     "output_type": "execute_result"
    }
   ],
   "source": [
    "test_data.head()"
   ]
  },
  {
   "cell_type": "markdown",
   "id": "31ca58a7",
   "metadata": {
    "papermill": {
     "duration": 0.033354,
     "end_time": "2022-03-03T05:40:12.121141",
     "exception": false,
     "start_time": "2022-03-03T05:40:12.087787",
     "status": "completed"
    },
    "tags": []
   },
   "source": [
    "# Random Forest Model"
   ]
  },
  {
   "cell_type": "code",
   "execution_count": 17,
   "id": "8e4e0754",
   "metadata": {
    "execution": {
     "iopub.execute_input": "2022-03-03T05:40:12.191510Z",
     "iopub.status.busy": "2022-03-03T05:40:12.190776Z",
     "iopub.status.idle": "2022-03-03T05:40:12.211565Z",
     "shell.execute_reply": "2022-03-03T05:40:12.210822Z",
     "shell.execute_reply.started": "2022-03-03T05:16:39.191111Z"
    },
    "papermill": {
     "duration": 0.057136,
     "end_time": "2022-03-03T05:40:12.211716",
     "exception": false,
     "start_time": "2022-03-03T05:40:12.154580",
     "status": "completed"
    },
    "tags": []
   },
   "outputs": [
    {
     "name": "stdout",
     "output_type": "stream",
     "text": [
      "AgeBin_(0.0902, 5.492] AgeBin_(0.0902, 5.492]\n",
      "AgeBin_(10.814, 16.136] AgeBin_(10.814, 16.136]\n",
      "AgeBin_(16.136, 21.458] AgeBin_(16.136, 21.458]\n",
      "AgeBin_(21.458, 26.78] AgeBin_(21.458, 26.78]\n",
      "AgeBin_(26.78, 32.102] AgeBin_(26.78, 32.102]\n",
      "AgeBin_(32.102, 37.424] AgeBin_(32.102, 37.424]\n",
      "AgeBin_(37.424, 42.746] AgeBin_(37.424, 42.746]\n",
      "AgeBin_(42.746, 48.068] AgeBin_(42.746, 48.068]\n",
      "AgeBin_(48.068, 53.39] AgeBin_(48.068, 53.39]\n",
      "AgeBin_(5.492, 10.814] AgeBin_(5.492, 10.814]\n",
      "AgeBin_(53.39, 58.712] AgeBin_(53.39, 58.712]\n",
      "AgeBin_(58.712, 64.034] AgeBin_(58.712, 64.034]\n",
      "AgeBin_(64.034, 69.356] AgeBin_(64.034, 69.356]\n",
      "AgeBin_(69.356, 74.678] AgeBin_(69.356, 74.678]\n",
      "AgeBin_(74.678, 80.0] AgeBin_(74.678, 80.0]\n",
      "DeckMap_ABC DeckMap_ABC\n",
      "DeckMap_D DeckMap_D\n",
      "DeckMap_E DeckMap_E\n",
      "DeckMap_F DeckMap_F\n",
      "DeckMap_GT DeckMap_GT\n",
      "DeckMap_unknown DeckMap_unknown\n",
      "Embarked_C Embarked_C\n",
      "Embarked_Q Embarked_Q\n",
      "Embarked_S Embarked_S\n",
      "FamilySizeMap_Alone FamilySizeMap_Alone\n",
      "FamilySizeMap_Couple FamilySizeMap_Couple\n",
      "FamilySizeMap_Large FamilySizeMap_Large\n",
      "FamilySizeMap_Small FamilySizeMap_Small\n",
      "LogFare LogFare\n",
      "Parch Parch\n",
      "PassengerId PassengerId\n",
      "Pclass Pclass\n",
      "Sex_female Sex_female\n",
      "Sex_male Sex_male\n",
      "SibSp SibSp\n",
      "Survived Survived\n",
      "TitleMap_Master TitleMap_Master\n",
      "TitleMap_Miss TitleMap_Miss\n",
      "TitleMap_Mr TitleMap_Mr\n",
      "TitleMap_Mrs TitleMap_Mrs\n",
      "TitleMap_Noble TitleMap_Noble\n",
      "TitleMap_Occupation TitleMap_Occupation\n"
     ]
    }
   ],
   "source": [
    "# features, not features\n",
    "not_features = ['SibSp','Parch','Survived','PassengerId']\n",
    "features = [col for col in train_data.columns if (not col in not_features) and (not train_data[col].dtype == object)]\n",
    "columns = train_data.columns\n",
    "\n",
    "for x,y in zip(sorted(features + not_features),sorted(columns)):\n",
    "    print(x,y)"
   ]
  },
  {
   "cell_type": "code",
   "execution_count": 18,
   "id": "db984418",
   "metadata": {
    "execution": {
     "iopub.execute_input": "2022-03-03T05:40:12.289423Z",
     "iopub.status.busy": "2022-03-03T05:40:12.288536Z",
     "iopub.status.idle": "2022-03-03T05:40:12.921639Z",
     "shell.execute_reply": "2022-03-03T05:40:12.920272Z",
     "shell.execute_reply.started": "2022-03-03T05:19:35.714251Z"
    },
    "papermill": {
     "duration": 0.674219,
     "end_time": "2022-03-03T05:40:12.921806",
     "exception": false,
     "start_time": "2022-03-03T05:40:12.247587",
     "status": "completed"
    },
    "tags": []
   },
   "outputs": [
    {
     "name": "stdout",
     "output_type": "stream",
     "text": [
      "Your submission was succesfully saved!\n"
     ]
    }
   ],
   "source": [
    "from sklearn.ensemble import RandomForestClassifier\n",
    "\n",
    "y = train_data['Survived']\n",
    "\n",
    "X = train_data[features] # pd.get_dummies(train_data[features])\n",
    "X_test = test_data[features] # pd.get_dummies(test_data[features])\n",
    "\n",
    "model = RandomForestClassifier(n_estimators=100,  max_depth=5, random_state=1)\n",
    "model.fit(X,y)\n",
    "predictions = model.predict(X_test).astype(int)\n",
    "\n",
    "output = pd.DataFrame({'PassengerId': test_data.PassengerId, 'Survived': predictions})\n",
    "output.to_csv('submission.csv', index=False)\n",
    "print('Your submission was succesfully saved!')"
   ]
  }
 ],
 "metadata": {
  "kernelspec": {
   "display_name": "Python 3",
   "language": "python",
   "name": "python3"
  },
  "language_info": {
   "codemirror_mode": {
    "name": "ipython",
    "version": 3
   },
   "file_extension": ".py",
   "mimetype": "text/x-python",
   "name": "python",
   "nbconvert_exporter": "python",
   "pygments_lexer": "ipython3",
   "version": "3.7.12"
  },
  "papermill": {
   "default_parameters": {},
   "duration": 16.624263,
   "end_time": "2022-03-03T05:40:13.768880",
   "environment_variables": {},
   "exception": null,
   "input_path": "__notebook__.ipynb",
   "output_path": "__notebook__.ipynb",
   "parameters": {},
   "start_time": "2022-03-03T05:39:57.144617",
   "version": "2.3.3"
  }
 },
 "nbformat": 4,
 "nbformat_minor": 5
}
